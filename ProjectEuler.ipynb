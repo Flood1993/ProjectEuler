{
 "cells": [
  {
   "cell_type": "code",
   "execution_count": null,
   "metadata": {
    "collapsed": true
   },
   "outputs": [],
   "source": [
    "#p064\n",
    "def calcPeriod(n):\n",
    "    states = []"
   ]
  },
  {
   "cell_type": "code",
   "execution_count": null,
   "metadata": {
    "collapsed": false
   },
   "outputs": [],
   "source": [
    "#p104\n",
    "matrices = []\n",
    "\n",
    "first = [[1, 1], [1, 0]]\n",
    "\n",
    "matrices.append(first)\n",
    "\n",
    "def prod(A, B):\n",
    "    return [[A[0][0]*B[0][0] + A[0][1]*B[1][0], A[0][0]*B[0][1] + A[0][1]*B[1][1]], [A[1][0]*B[0][0] + A[1][1]*B[1][0], A[1][0]*B[0][1] + A[1][1]*B[1][1]]]\n",
    "\n",
    "def getFibNumber(n):\n",
    "    # calculate n as sum of powers of 2\n",
    "    np2 = \"{0:b}\".format(n)\n",
    "    res = [[1, 0], [0, 1]] # Identity matrix\n",
    "    val = 0\n",
    "    for i in range(len(np2)-1, -1, -1):\n",
    "        if (np2[i] == \"1\"):\n",
    "            res = prod(res, matrices[val])\n",
    "        val += 1\n",
    "    return res[0][0]\n",
    "\n",
    "for i in range(20):\n",
    "    matrices.append(prod(matrices[i], matrices[i]))\n",
    "\n",
    "correctSum = 45\n",
    "correctMul = 362880\n",
    "\n",
    "    \n",
    "def isPand(n):\n",
    "    strN = str(n)\n",
    "    \n",
    "    if len(strN) != 9:\n",
    "        return False\n",
    "    \n",
    "    suma, mult = 0, 1\n",
    "    for num in strN:\n",
    "        suma += int(num)\n",
    "        mult *= int(num)\n",
    "        \n",
    "    return suma == correctSum and mult == correctMul\n",
    "    \n",
    "modulus = 10**9\n",
    "a, b = 1, 1\n",
    "for i in range(3,1000000):\n",
    "    t = a+b\n",
    "    a = b%modulus\n",
    "    b = t%modulus\n",
    "    if isPand(b):\n",
    "        num = getFibNumber(i-1)\n",
    "        if isPand(int(str(num)[0:9])):\n",
    "            print(i)\n",
    "\n",
    "print(\"Finished\")"
   ]
  },
  {
   "cell_type": "code",
   "execution_count": null,
   "metadata": {
    "collapsed": false
   },
   "outputs": [
    {
     "name": "stdout",
     "output_type": "stream",
     "text": [
      "KA\n"
     ]
    }
   ],
   "source": [
    "# p100\n",
    "\"\"\"\n",
    "k = blue discs\n",
    "n = total discs\n",
    "\n",
    "k/n * (k-1)/(n-1) = 1/2\n",
    "\n",
    "k*(k+1)/(n*(n+1)) = 1/2\n",
    "2*k*(k+1) = n*(n+1)\n",
    "\"\"\"\n",
    "\n",
    "startK = int((5*10**23)**0.5)\n",
    "startN = 10**12\n",
    "\n",
    "K = set()\n",
    "N = set()\n",
    "\n",
    "print(\"KA\")\n",
    "\n",
    "for i in range(0, 60000000):\n",
    "    N.add(startN*(startN + 1))\n",
    "    startN += 1\n",
    "    \n",
    "print(\"BO\")\n",
    "\n",
    "for x in range(0, 60000000):\n",
    "    elem = 2*startK*(startK + 1)\n",
    "    startK += 1\n",
    "    if elem in N:\n",
    "        print(startK)\n",
    "\n",
    "print(\"OM\")\n"
   ]
  },
  {
   "cell_type": "code",
   "execution_count": null,
   "metadata": {
    "collapsed": true
   },
   "outputs": [],
   "source": []
  }
 ],
 "metadata": {
  "kernelspec": {
   "display_name": "Python 3",
   "language": "python",
   "name": "python3"
  },
  "language_info": {
   "codemirror_mode": {
    "name": "ipython",
    "version": 3
   },
   "file_extension": ".py",
   "mimetype": "text/x-python",
   "name": "python",
   "nbconvert_exporter": "python",
   "pygments_lexer": "ipython3",
   "version": "3.5.1"
  }
 },
 "nbformat": 4,
 "nbformat_minor": 0
}
