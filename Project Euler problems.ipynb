{
 "cells": [
  {
   "cell_type": "code",
   "execution_count": 9,
   "metadata": {
    "collapsed": false
   },
   "outputs": [
    {
     "name": "stdout",
     "output_type": "stream",
     "text": [
      "D8 -8\n",
      "D11 -11\n",
      "5040\n"
     ]
    }
   ],
   "source": [
    "from math import log\n",
    "from functions import gcd\n",
    "# Problem 183\n",
    "\n",
    "def M(n):\n",
    "    val = 0\n",
    "    parts = 0\n",
    "    for k in range(1, n):\n",
    "        tmpRes = k*log(n/k)\n",
    "        if tmpRes > val:\n",
    "            val = tmpRes\n",
    "            parts = k\n",
    "    return parts\n",
    "        \n",
    "def D(n):\n",
    "    mn = M(n)\n",
    "    if gcd(n, mn) == 1:\n",
    "        return -n\n",
    "    return n\n",
    "\n",
    "def \n",
    "\n",
    "tmp = 0\n",
    "for i in range(5, 101):\n",
    "    tmp += i\n",
    "\n",
    "print(\"D8\", D(8))\n",
    "print(\"D11\", D(11))\n",
    "print(tmp)"
   ]
  },
  {
   "cell_type": "code",
   "execution_count": 2,
   "metadata": {
    "collapsed": false
   },
   "outputs": [
    {
     "name": "stdout",
     "output_type": "stream",
     "text": [
      "fuck\n",
      "986262\n"
     ]
    }
   ],
   "source": [
    "# p179\n",
    "limit = 1 + 10**7\n",
    "X = [1]*(limit)\n",
    "X[0] = 0\n",
    "half = 1 + 5*10**6\n",
    "for i in range(2, half):\n",
    "    for j in range(i, limit, i):\n",
    "        X[j] += 1\n",
    "        \n",
    "print('fuck')\n",
    "\n",
    "cnt = 0\n",
    "for i in range(2, limit-2):\n",
    "    if X[i] == X[i+1]:\n",
    "        cnt += 1\n",
    "print(cnt)"
   ]
  },
  {
   "cell_type": "code",
   "execution_count": 9,
   "metadata": {
    "collapsed": false
   },
   "outputs": [
    {
     "name": "stdout",
     "output_type": "stream",
     "text": [
      "29130364243404598543269516000\n"
     ]
    }
   ],
   "source": [
    "# p181\n",
    "\n",
    "X = []\n",
    "for i in range(61):\n",
    "    X.append([0]*41)\n",
    "\n",
    "for i in range(61):\n",
    "    X[i][0] = i\n",
    "    \n",
    "for i in range(41):\n",
    "    X[0][i] = i\n",
    "\n",
    "for i in range(1, 61):\n",
    "    for j in range(1, 41):\n",
    "        X[i][j] = X[i][j-1] + X[i-1][j]\n",
    "        \n",
    "print(X[60][40])"
   ]
  }
 ],
 "metadata": {
  "kernelspec": {
   "display_name": "Python 3",
   "language": "python",
   "name": "python3"
  },
  "language_info": {
   "codemirror_mode": {
    "name": "ipython",
    "version": 3
   },
   "file_extension": ".py",
   "mimetype": "text/x-python",
   "name": "python",
   "nbconvert_exporter": "python",
   "pygments_lexer": "ipython3",
   "version": "3.5.1"
  }
 },
 "nbformat": 4,
 "nbformat_minor": 0
}
